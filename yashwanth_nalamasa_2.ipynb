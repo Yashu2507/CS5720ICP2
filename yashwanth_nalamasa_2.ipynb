{
  "nbformat": 4,
  "nbformat_minor": 0,
  "metadata": {
    "colab": {
      "provenance": []
    },
    "kernelspec": {
      "name": "python3",
      "display_name": "Python 3"
    },
    "language_info": {
      "name": "python"
    }
  },
  "cells": [
    {
      "cell_type": "code",
      "source": [
        "def full_name():\n",
        "    try:\n",
        "        inp_a = str(input(\"Enter your first_name here:\"))\n",
        "        inp_b = str(input(\"Enter your last_name here:\"))\n",
        "        if validate_inp(inp_a) and validate_inp(inp_b):\n",
        "            full_name = inp_a + \" \" + inp_b\n",
        "            print(full_name)\n",
        "            return full_name\n",
        "        else:\n",
        "            print(\"please enter a valid string\")\n",
        "    except Exception as error:\n",
        "        print(\"Error occured {}\".format(error))\n",
        "\n",
        "def validate_inp(input_value):\n",
        "\n",
        "    if input_value != '' and input_value is not None and input_value.isspace() != True and input_value.isnumeric() != True:\n",
        "        return True\n",
        "    else:\n",
        "        return False\n",
        "\n",
        "def string_alternative(full_name):\n",
        "    try:\n",
        "        inp_1 = full_name\n",
        "        print(inp_1[::2])\n",
        "    except Exception as error:\n",
        "        print(\"Error occured {}\".format(error))\n",
        "\n",
        "if __name__ == \"__main__\":\n",
        "    f = full_name()\n",
        "    string_alternative(f)"
      ],
      "metadata": {
        "colab": {
          "base_uri": "https://localhost:8080/"
        },
        "id": "ATfaRsvQjTk7",
        "outputId": "91ebc9be-d75f-47a0-ee51-c82e95526f62"
      },
      "execution_count": 4,
      "outputs": [
        {
          "output_type": "stream",
          "name": "stdout",
          "text": [
            "Enter your first_name here:Good\n",
            "Enter your last_name here:Evening\n",
            "Good Evening\n",
            "Go vnn\n"
          ]
        }
      ]
    },
    {
      "cell_type": "code",
      "execution_count": 7,
      "metadata": {
        "id": "dQl5T3q2il4T"
      },
      "outputs": [],
      "source": [
        "with open('input.txt','r') as input_file:\n",
        "        a = dict()\n",
        "        for sentence in input_file:\n",
        "            sentence = sentence.strip()\n",
        "            sentence = sentence.lower()\n",
        "            words = sentence.split(\" \")\n",
        "            for word in words:\n",
        "                if word in a:\n",
        "                    a[word] = a[word] + 1\n",
        "                else:\n",
        "                    a[word] = 1\n",
        "        with open('Output.txt','w') as output_file:\n",
        "            for key in list(a.keys()):\n",
        "                print(key,\":\",a[key],file = output_file)\n",
        ""
      ]
    },
    {
      "cell_type": "code",
      "source": [
        "heights_list = []\n",
        "heights_in_cm = []\n",
        "while True:\n",
        "    inp_1 = input(\"Enter heights of customers(inches) (press q to quit):\")\n",
        "    if inp_1 == 'q':\n",
        "        break\n",
        "    else:\n",
        "        heights_list.append(inp_1)\n",
        "\n",
        "print(\"L1: \",heights_list)\n",
        "heights_in_cm = [int(height) * 2.54 for height in heights_list]\n",
        "print(\"Output: \", heights_in_cm)"
      ],
      "metadata": {
        "colab": {
          "base_uri": "https://localhost:8080/"
        },
        "id": "yH6ufLlRo5Mp",
        "outputId": "64337094-9ea2-448b-f456-0d5dc3c529c3"
      },
      "execution_count": 13,
      "outputs": [
        {
          "output_type": "stream",
          "name": "stdout",
          "text": [
            "Enter heights of customers(inches) (press q to quit):160\n",
            "Enter heights of customers(inches) (press q to quit):150\n",
            "Enter heights of customers(inches) (press q to quit):125\n",
            "Enter heights of customers(inches) (press q to quit):165\n",
            "Enter heights of customers(inches) (press q to quit):q\n",
            "L1:  ['160', '150', '125', '165']\n",
            "Output:  [406.4, 381.0, 317.5, 419.1]\n"
          ]
        }
      ]
    }
  ]
}